{
  "nbformat": 4,
  "nbformat_minor": 0,
  "metadata": {
    "kernelspec": {
      "name": "python3",
      "display_name": "Python 3",
      "language": "python"
    },
    "language_info": {
      "name": "python",
      "version": "3.7.6",
      "mimetype": "text/x-python",
      "codemirror_mode": {
        "name": "ipython",
        "version": 3
      },
      "pygments_lexer": "ipython3",
      "nbconvert_exporter": "python",
      "file_extension": ".py"
    },
    "colab": {
      "name": "quora model ipynb.ipynb",
      "provenance": []
    }
  },
  "cells": [
    {
      "cell_type": "code",
      "metadata": {
        "_uuid": "8f2839f25d086af736a60e9eeb907d3b93b6e0e5",
        "_cell_guid": "b1076dfc-b9ad-4769-8c92-a6c4dae69d19",
        "trusted": true,
        "id": "0lWoOfLeIFke",
        "colab_type": "code",
        "colab": {},
        "outputId": "aa17d6ad-ed95-4396-8b1a-68c9cf5207d4"
      },
      "source": [
        "# This Python 3 environment comes with many helpful analytics libraries installed\n",
        "# It is defined by the kaggle/python Docker image: https://github.com/kaggle/docker-python\n",
        "# For example, here's several helpful packages to load\n",
        "\n",
        "import numpy as np # linear algebra\n",
        "import pandas as pd # data processing, CSV file I/O (e.g. pd.read_csv)\n",
        "\n",
        "# Input data files are available in the read-only \"../input/\" directory\n",
        "# For example, running this (by clicking run or pressing Shift+Enter) will list all files under the input directory\n",
        "\n",
        "import os\n",
        "for dirname, _, filenames in os.walk('/kaggle/input'):\n",
        "    for filename in filenames:\n",
        "        print(os.path.join(dirname, filename))\n",
        "\n",
        "# You can write up to 5GB to the current directory (/kaggle/working/) that gets preserved as output when you create a version using \"Save & Run All\" \n",
        "# You can also write temporary files to /kaggle/temp/, but they won't be saved outside of the current session"
      ],
      "execution_count": null,
      "outputs": [
        {
          "output_type": "stream",
          "text": [
            "/kaggle/input/quora-question-pairs/test.csv.zip\n",
            "/kaggle/input/quora-question-pairs/test.csv\n",
            "/kaggle/input/quora-question-pairs/train.csv.zip\n",
            "/kaggle/input/quora-question-pairs/sample_submission.csv.zip\n",
            "/kaggle/input/glove6b200d/glove.6B.200d.txt\n"
          ],
          "name": "stdout"
        }
      ]
    },
    {
      "cell_type": "code",
      "metadata": {
        "trusted": true,
        "id": "K9VFhAeRIFkp",
        "colab_type": "code",
        "colab": {},
        "outputId": "e730e6a5-f9c0-4ae0-dcb3-dce58495df40"
      },
      "source": [
        "import numpy as np # linear algebra\n",
        "import pandas as pd # data processing, CSV file I/O (e.g. pd.read_csv)\n",
        "from keras.preprocessing.text import Tokenizer\n",
        "from keras.preprocessing.sequence import pad_sequences\n",
        "from nltk.tokenize import word_tokenize\n",
        "import re\n",
        "from nltk.stem import WordNetLemmatizer\n",
        "from nltk.corpus import stopwords\n",
        "import tensorflow as tf\n",
        "from tensorflow.keras.layers import *\n",
        "from tensorflow.keras.models import Model"
      ],
      "execution_count": null,
      "outputs": [
        {
          "output_type": "stream",
          "text": [
            "Using TensorFlow backend.\n"
          ],
          "name": "stderr"
        }
      ]
    },
    {
      "cell_type": "code",
      "metadata": {
        "_uuid": "d629ff2d2480ee46fbb7e2d37f6b5fab8052498a",
        "_cell_guid": "79c7e3d0-c299-4dcb-8224-4455121ee9b0",
        "trusted": true,
        "id": "Sn7bSIe5IFkw",
        "colab_type": "code",
        "colab": {}
      },
      "source": [
        "df = pd.read_csv('../input/quora-question-pairs/train.csv.zip')"
      ],
      "execution_count": null,
      "outputs": []
    },
    {
      "cell_type": "code",
      "metadata": {
        "trusted": true,
        "id": "UU3qMh7yIFk1",
        "colab_type": "code",
        "colab": {},
        "outputId": "2f4db577-4e16-4004-8b94-71b235a7ab97"
      },
      "source": [
        "df"
      ],
      "execution_count": null,
      "outputs": [
        {
          "output_type": "execute_result",
          "data": {
            "text/plain": [
              "            id    qid1    qid2  \\\n",
              "0            0       1       2   \n",
              "1            1       3       4   \n",
              "2            2       5       6   \n",
              "3            3       7       8   \n",
              "4            4       9      10   \n",
              "...        ...     ...     ...   \n",
              "404285  404285  433578  379845   \n",
              "404286  404286   18840  155606   \n",
              "404287  404287  537928  537929   \n",
              "404288  404288  537930  537931   \n",
              "404289  404289  537932  537933   \n",
              "\n",
              "                                                question1  \\\n",
              "0       What is the step by step guide to invest in sh...   \n",
              "1       What is the story of Kohinoor (Koh-i-Noor) Dia...   \n",
              "2       How can I increase the speed of my internet co...   \n",
              "3       Why am I mentally very lonely? How can I solve...   \n",
              "4       Which one dissolve in water quikly sugar, salt...   \n",
              "...                                                   ...   \n",
              "404285  How many keywords are there in the Racket prog...   \n",
              "404286          Do you believe there is life after death?   \n",
              "404287                                  What is one coin?   \n",
              "404288  What is the approx annual cost of living while...   \n",
              "404289              What is like to have sex with cousin?   \n",
              "\n",
              "                                                question2  is_duplicate  \n",
              "0       What is the step by step guide to invest in sh...             0  \n",
              "1       What would happen if the Indian government sto...             0  \n",
              "2       How can Internet speed be increased by hacking...             0  \n",
              "3       Find the remainder when [math]23^{24}[/math] i...             0  \n",
              "4                 Which fish would survive in salt water?             0  \n",
              "...                                                   ...           ...  \n",
              "404285  How many keywords are there in PERL Programmin...             0  \n",
              "404286         Is it true that there is life after death?             1  \n",
              "404287                                  What's this coin?             0  \n",
              "404288  I am having little hairfall problem but I want...             0  \n",
              "404289      What is it like to have sex with your cousin?             0  \n",
              "\n",
              "[404290 rows x 6 columns]"
            ],
            "text/html": [
              "<div>\n",
              "<style scoped>\n",
              "    .dataframe tbody tr th:only-of-type {\n",
              "        vertical-align: middle;\n",
              "    }\n",
              "\n",
              "    .dataframe tbody tr th {\n",
              "        vertical-align: top;\n",
              "    }\n",
              "\n",
              "    .dataframe thead th {\n",
              "        text-align: right;\n",
              "    }\n",
              "</style>\n",
              "<table border=\"1\" class=\"dataframe\">\n",
              "  <thead>\n",
              "    <tr style=\"text-align: right;\">\n",
              "      <th></th>\n",
              "      <th>id</th>\n",
              "      <th>qid1</th>\n",
              "      <th>qid2</th>\n",
              "      <th>question1</th>\n",
              "      <th>question2</th>\n",
              "      <th>is_duplicate</th>\n",
              "    </tr>\n",
              "  </thead>\n",
              "  <tbody>\n",
              "    <tr>\n",
              "      <th>0</th>\n",
              "      <td>0</td>\n",
              "      <td>1</td>\n",
              "      <td>2</td>\n",
              "      <td>What is the step by step guide to invest in sh...</td>\n",
              "      <td>What is the step by step guide to invest in sh...</td>\n",
              "      <td>0</td>\n",
              "    </tr>\n",
              "    <tr>\n",
              "      <th>1</th>\n",
              "      <td>1</td>\n",
              "      <td>3</td>\n",
              "      <td>4</td>\n",
              "      <td>What is the story of Kohinoor (Koh-i-Noor) Dia...</td>\n",
              "      <td>What would happen if the Indian government sto...</td>\n",
              "      <td>0</td>\n",
              "    </tr>\n",
              "    <tr>\n",
              "      <th>2</th>\n",
              "      <td>2</td>\n",
              "      <td>5</td>\n",
              "      <td>6</td>\n",
              "      <td>How can I increase the speed of my internet co...</td>\n",
              "      <td>How can Internet speed be increased by hacking...</td>\n",
              "      <td>0</td>\n",
              "    </tr>\n",
              "    <tr>\n",
              "      <th>3</th>\n",
              "      <td>3</td>\n",
              "      <td>7</td>\n",
              "      <td>8</td>\n",
              "      <td>Why am I mentally very lonely? How can I solve...</td>\n",
              "      <td>Find the remainder when [math]23^{24}[/math] i...</td>\n",
              "      <td>0</td>\n",
              "    </tr>\n",
              "    <tr>\n",
              "      <th>4</th>\n",
              "      <td>4</td>\n",
              "      <td>9</td>\n",
              "      <td>10</td>\n",
              "      <td>Which one dissolve in water quikly sugar, salt...</td>\n",
              "      <td>Which fish would survive in salt water?</td>\n",
              "      <td>0</td>\n",
              "    </tr>\n",
              "    <tr>\n",
              "      <th>...</th>\n",
              "      <td>...</td>\n",
              "      <td>...</td>\n",
              "      <td>...</td>\n",
              "      <td>...</td>\n",
              "      <td>...</td>\n",
              "      <td>...</td>\n",
              "    </tr>\n",
              "    <tr>\n",
              "      <th>404285</th>\n",
              "      <td>404285</td>\n",
              "      <td>433578</td>\n",
              "      <td>379845</td>\n",
              "      <td>How many keywords are there in the Racket prog...</td>\n",
              "      <td>How many keywords are there in PERL Programmin...</td>\n",
              "      <td>0</td>\n",
              "    </tr>\n",
              "    <tr>\n",
              "      <th>404286</th>\n",
              "      <td>404286</td>\n",
              "      <td>18840</td>\n",
              "      <td>155606</td>\n",
              "      <td>Do you believe there is life after death?</td>\n",
              "      <td>Is it true that there is life after death?</td>\n",
              "      <td>1</td>\n",
              "    </tr>\n",
              "    <tr>\n",
              "      <th>404287</th>\n",
              "      <td>404287</td>\n",
              "      <td>537928</td>\n",
              "      <td>537929</td>\n",
              "      <td>What is one coin?</td>\n",
              "      <td>What's this coin?</td>\n",
              "      <td>0</td>\n",
              "    </tr>\n",
              "    <tr>\n",
              "      <th>404288</th>\n",
              "      <td>404288</td>\n",
              "      <td>537930</td>\n",
              "      <td>537931</td>\n",
              "      <td>What is the approx annual cost of living while...</td>\n",
              "      <td>I am having little hairfall problem but I want...</td>\n",
              "      <td>0</td>\n",
              "    </tr>\n",
              "    <tr>\n",
              "      <th>404289</th>\n",
              "      <td>404289</td>\n",
              "      <td>537932</td>\n",
              "      <td>537933</td>\n",
              "      <td>What is like to have sex with cousin?</td>\n",
              "      <td>What is it like to have sex with your cousin?</td>\n",
              "      <td>0</td>\n",
              "    </tr>\n",
              "  </tbody>\n",
              "</table>\n",
              "<p>404290 rows × 6 columns</p>\n",
              "</div>"
            ]
          },
          "metadata": {
            "tags": []
          },
          "execution_count": 4
        }
      ]
    },
    {
      "cell_type": "code",
      "metadata": {
        "trusted": true,
        "id": "Mqdep3qPIFk6",
        "colab_type": "code",
        "colab": {},
        "outputId": "6147724c-476d-4cbf-ead8-d3fcc587e237"
      },
      "source": [
        "test_data = pd.read_csv('../input/quora-question-pairs/test.csv.zip')"
      ],
      "execution_count": null,
      "outputs": [
        {
          "output_type": "stream",
          "text": [
            "/opt/conda/lib/python3.7/site-packages/IPython/core/interactiveshell.py:3063: DtypeWarning: Columns (0) have mixed types.Specify dtype option on import or set low_memory=False.\n",
            "  interactivity=interactivity, compiler=compiler, result=result)\n"
          ],
          "name": "stderr"
        }
      ]
    },
    {
      "cell_type": "code",
      "metadata": {
        "trusted": true,
        "id": "iLsMXZGsIFlA",
        "colab_type": "code",
        "colab": {},
        "outputId": "9a5d9a3c-4984-4996-d1e0-3b581ce82084"
      },
      "source": [
        "test_data.head()"
      ],
      "execution_count": null,
      "outputs": [
        {
          "output_type": "execute_result",
          "data": {
            "text/plain": [
              "  test_id                                          question1  \\\n",
              "0       0  How does the Surface Pro himself 4 compare wit...   \n",
              "1       1  Should I have a hair transplant at age 24? How...   \n",
              "2       2  What but is the best way to send money from Ch...   \n",
              "3       3                        Which food not emulsifiers?   \n",
              "4       4                   How \"aberystwyth\" start reading?   \n",
              "\n",
              "                                           question2  \n",
              "0  Why did Microsoft choose core m3 and not core ...  \n",
              "1        How much cost does hair transplant require?  \n",
              "2                      What you send money to China?  \n",
              "3                                  What foods fibre?  \n",
              "4                     How their can I start reading?  "
            ],
            "text/html": [
              "<div>\n",
              "<style scoped>\n",
              "    .dataframe tbody tr th:only-of-type {\n",
              "        vertical-align: middle;\n",
              "    }\n",
              "\n",
              "    .dataframe tbody tr th {\n",
              "        vertical-align: top;\n",
              "    }\n",
              "\n",
              "    .dataframe thead th {\n",
              "        text-align: right;\n",
              "    }\n",
              "</style>\n",
              "<table border=\"1\" class=\"dataframe\">\n",
              "  <thead>\n",
              "    <tr style=\"text-align: right;\">\n",
              "      <th></th>\n",
              "      <th>test_id</th>\n",
              "      <th>question1</th>\n",
              "      <th>question2</th>\n",
              "    </tr>\n",
              "  </thead>\n",
              "  <tbody>\n",
              "    <tr>\n",
              "      <th>0</th>\n",
              "      <td>0</td>\n",
              "      <td>How does the Surface Pro himself 4 compare wit...</td>\n",
              "      <td>Why did Microsoft choose core m3 and not core ...</td>\n",
              "    </tr>\n",
              "    <tr>\n",
              "      <th>1</th>\n",
              "      <td>1</td>\n",
              "      <td>Should I have a hair transplant at age 24? How...</td>\n",
              "      <td>How much cost does hair transplant require?</td>\n",
              "    </tr>\n",
              "    <tr>\n",
              "      <th>2</th>\n",
              "      <td>2</td>\n",
              "      <td>What but is the best way to send money from Ch...</td>\n",
              "      <td>What you send money to China?</td>\n",
              "    </tr>\n",
              "    <tr>\n",
              "      <th>3</th>\n",
              "      <td>3</td>\n",
              "      <td>Which food not emulsifiers?</td>\n",
              "      <td>What foods fibre?</td>\n",
              "    </tr>\n",
              "    <tr>\n",
              "      <th>4</th>\n",
              "      <td>4</td>\n",
              "      <td>How \"aberystwyth\" start reading?</td>\n",
              "      <td>How their can I start reading?</td>\n",
              "    </tr>\n",
              "  </tbody>\n",
              "</table>\n",
              "</div>"
            ]
          },
          "metadata": {
            "tags": []
          },
          "execution_count": 6
        }
      ]
    },
    {
      "cell_type": "code",
      "metadata": {
        "trusted": true,
        "id": "ICuAopMbIFlE",
        "colab_type": "code",
        "colab": {}
      },
      "source": [
        "X_train = df.iloc[:,:5].values\n",
        "Y_train = df.iloc[:,5:].values"
      ],
      "execution_count": null,
      "outputs": []
    },
    {
      "cell_type": "code",
      "metadata": {
        "trusted": true,
        "id": "Ix_MT_p7IFlJ",
        "colab_type": "code",
        "colab": {}
      },
      "source": [
        "X_testq1 = test_data.iloc[:400001,1:2].values\n",
        "X_testq2 = test_data.iloc[:400001, 2:].values"
      ],
      "execution_count": null,
      "outputs": []
    },
    {
      "cell_type": "code",
      "metadata": {
        "trusted": true,
        "id": "NmWHQWDcIFlN",
        "colab_type": "code",
        "colab": {}
      },
      "source": [
        "s=X_train[:,3:5]"
      ],
      "execution_count": null,
      "outputs": []
    },
    {
      "cell_type": "code",
      "metadata": {
        "trusted": true,
        "id": "d_wpCPWVIFlR",
        "colab_type": "code",
        "colab": {}
      },
      "source": [
        "from sklearn.model_selection import train_test_split"
      ],
      "execution_count": null,
      "outputs": []
    },
    {
      "cell_type": "code",
      "metadata": {
        "trusted": true,
        "id": "tZ0iCB5YIFlU",
        "colab_type": "code",
        "colab": {}
      },
      "source": [
        "X_train, X_validation, Y_train, Y_validation = train_test_split(s, Y_train, test_size=0.2)"
      ],
      "execution_count": null,
      "outputs": []
    },
    {
      "cell_type": "code",
      "metadata": {
        "trusted": true,
        "id": "xKtZpBBBIFlY",
        "colab_type": "code",
        "colab": {},
        "outputId": "2a6c50d5-43f5-455b-98d2-5d5cc8c3a0df"
      },
      "source": [
        "X_train"
      ],
      "execution_count": null,
      "outputs": [
        {
          "output_type": "execute_result",
          "data": {
            "text/plain": [
              "array([['What are the effects of a venomous snake bite?',\n",
              "        'How can my profile get 80% tuition scholarship for an MA in Communication in US?'],\n",
              "       ['You say scent particles are just like gas particles. Does it mean that scent (smell) is a constituent of air?',\n",
              "        'How safe is it to go to Seychelles for a week?'],\n",
              "       ['Two cards were drawn without a replacement from a pack of 52 cards. What is the probability that they are both kings or both queens?',\n",
              "        'Two cards were drawn, without replacement, from a pack of 52 cards. What is the probability that they are both Kings or both Queen?'],\n",
              "       ...,\n",
              "       ['What are all the possible formats of USPS tracking numbers?',\n",
              "        'How do you track a US priority mail package without a tracking number?'],\n",
              "       ['What is the coldest temperature ever recorded in London?',\n",
              "        \"What is Germany's coldest city?\"],\n",
              "       ['What are the applications of set theory in logic?',\n",
              "        'What are some real-life applications of set theory?']],\n",
              "      dtype=object)"
            ]
          },
          "metadata": {
            "tags": []
          },
          "execution_count": 12
        }
      ]
    },
    {
      "cell_type": "code",
      "metadata": {
        "trusted": true,
        "id": "m2RWxeoBIFlc",
        "colab_type": "code",
        "colab": {}
      },
      "source": [
        "s1 = X_train[:,0]\n",
        "s2 = X_train[:,1]"
      ],
      "execution_count": null,
      "outputs": []
    },
    {
      "cell_type": "code",
      "metadata": {
        "trusted": true,
        "id": "HWGIe8vSIFlg",
        "colab_type": "code",
        "colab": {}
      },
      "source": [
        "s3 = X_validation[:,0]\n",
        "s4 = X_validation[:,1]"
      ],
      "execution_count": null,
      "outputs": []
    },
    {
      "cell_type": "code",
      "metadata": {
        "trusted": true,
        "id": "FrJ-cHcmIFll",
        "colab_type": "code",
        "colab": {}
      },
      "source": [
        "MAX_NB_WORDS = 200000\n",
        "tokenizer = Tokenizer(num_words = MAX_NB_WORDS)\n",
        "tokenizer.fit_on_texts(list(s1.astype(str))+list(s2.astype(str)))"
      ],
      "execution_count": null,
      "outputs": []
    },
    {
      "cell_type": "code",
      "metadata": {
        "trusted": true,
        "id": "3hZoaOdYIFlp",
        "colab_type": "code",
        "colab": {}
      },
      "source": [
        "X_train_q1 = tokenizer.texts_to_sequences(s1.astype(str))\n",
        "X_train_q1 = pad_sequences(X_train_q1, maxlen = 30, padding='post')\n",
        "\n",
        "# X_train_q2 = tokenizer.texts_to_sequences(np.array(listq2))\n",
        "X_train_q2 = tokenizer.texts_to_sequences(s2.astype(str))\n",
        "X_train_q2 = pad_sequences(X_train_q2, maxlen = 30, padding='post')"
      ],
      "execution_count": null,
      "outputs": []
    },
    {
      "cell_type": "code",
      "metadata": {
        "trusted": true,
        "id": "ac6S4-L3IFls",
        "colab_type": "code",
        "colab": {}
      },
      "source": [
        "X_validation_q1 = tokenizer.texts_to_sequences(s3.astype(str))\n",
        "X_validation_q1 = pad_sequences(X_validation_q1, maxlen = 30, padding='post')\n",
        "\n",
        "# X_train_q2 = tokenizer.texts_to_sequences(np.array(listq2))\n",
        "X_validation_q2 = tokenizer.texts_to_sequences(s4.astype(str))\n",
        "X_validation_q2 = pad_sequences(X_validation_q2, maxlen = 30, padding='post')"
      ],
      "execution_count": null,
      "outputs": []
    },
    {
      "cell_type": "code",
      "metadata": {
        "trusted": true,
        "id": "usjdWOO2IFly",
        "colab_type": "code",
        "colab": {}
      },
      "source": [
        "X_test_q1 = tokenizer.texts_to_sequences(X_testq1.astype(str).ravel())\n",
        "X_test_q1 = pad_sequences(X_test_q1,maxlen = 30, padding='post')\n",
        "\n",
        "X_test_q2 = tokenizer.texts_to_sequences(X_testq2.astype(str).ravel())\n",
        "X_test_q2 = pad_sequences(X_test_q2, maxlen = 30, padding='post')"
      ],
      "execution_count": null,
      "outputs": []
    },
    {
      "cell_type": "code",
      "metadata": {
        "trusted": true,
        "id": "sshKiCFRIFl3",
        "colab_type": "code",
        "colab": {}
      },
      "source": [
        "word_index = tokenizer.word_index\n"
      ],
      "execution_count": null,
      "outputs": []
    },
    {
      "cell_type": "code",
      "metadata": {
        "trusted": true,
        "id": "6zx58hRRIFl7",
        "colab_type": "code",
        "colab": {}
      },
      "source": [
        "embedding_index = {}\n",
        "with open('../input/glove6b200d/glove.6B.200d.txt','r') as f:\n",
        "    for line in f:\n",
        "        values = line.split()\n",
        "        word = values[0]\n",
        "        vectors = np.asarray(values[1:], 'float32')\n",
        "        embedding_index[word] = vectors\n",
        "    f.close()"
      ],
      "execution_count": null,
      "outputs": []
    },
    {
      "cell_type": "code",
      "metadata": {
        "trusted": true,
        "id": "1hvvyR8hIFl-",
        "colab_type": "code",
        "colab": {}
      },
      "source": [
        "embedding_matrix = np.random.random((len(word_index)+1, 200))\n",
        "for word, i in word_index.items():\n",
        "    embedding_vector = embedding_index.get(word)\n",
        "    if embedding_vector is not None:\n",
        "        embedding_matrix[i] = embedding_vector"
      ],
      "execution_count": null,
      "outputs": []
    },
    {
      "cell_type": "code",
      "metadata": {
        "trusted": true,
        "id": "UCeB6atVIFmC",
        "colab_type": "code",
        "colab": {}
      },
      "source": [
        "n_hidden = 50\n",
        "gradient_clipping_norm = 1.25\n",
        "batch_size = 64\n",
        "n_epoch = 25"
      ],
      "execution_count": null,
      "outputs": []
    },
    {
      "cell_type": "code",
      "metadata": {
        "trusted": true,
        "id": "ewKFbqupIFmG",
        "colab_type": "code",
        "colab": {}
      },
      "source": [
        "from keras import backend as K"
      ],
      "execution_count": null,
      "outputs": []
    },
    {
      "cell_type": "code",
      "metadata": {
        "trusted": true,
        "id": "HuscPGUeIFmK",
        "colab_type": "code",
        "colab": {}
      },
      "source": [
        "\n",
        "def exponent_neg_manhattan_distance(left, right):\n",
        "    ''' Helper function for the similarity estimate of the LSTMs outputs'''\n",
        "    return K.exp(-K.sum(K.abs(left-right), axis=1, keepdims=True))\n"
      ],
      "execution_count": null,
      "outputs": []
    },
    {
      "cell_type": "code",
      "metadata": {
        "trusted": true,
        "id": "7ZUt0wj9IFmP",
        "colab_type": "code",
        "colab": {}
      },
      "source": [
        "max_seq_length=30"
      ],
      "execution_count": null,
      "outputs": []
    },
    {
      "cell_type": "code",
      "metadata": {
        "trusted": true,
        "id": "1j3Zyo_JIFmT",
        "colab_type": "code",
        "colab": {}
      },
      "source": [
        "from keras.models import Model\n",
        "from keras.optimizers import Adadelta"
      ],
      "execution_count": null,
      "outputs": []
    },
    {
      "cell_type": "code",
      "metadata": {
        "trusted": true,
        "id": "QcIO8X-JIFmY",
        "colab_type": "code",
        "colab": {},
        "outputId": "1c172dd0-2fc0-4d7b-99b8-a5e55e3c6da9"
      },
      "source": [
        "len(embedding_matrix)"
      ],
      "execution_count": null,
      "outputs": [
        {
          "output_type": "execute_result",
          "data": {
            "text/plain": [
              "86423"
            ]
          },
          "metadata": {
            "tags": []
          },
          "execution_count": 27
        }
      ]
    },
    {
      "cell_type": "code",
      "metadata": {
        "trusted": true,
        "id": "L2XntKxGIFmc",
        "colab_type": "code",
        "colab": {},
        "outputId": "e44058e4-1746-4fd1-cfb4-ec2e3c3e0644"
      },
      "source": [
        "len(word_index)"
      ],
      "execution_count": null,
      "outputs": [
        {
          "output_type": "execute_result",
          "data": {
            "text/plain": [
              "86422"
            ]
          },
          "metadata": {
            "tags": []
          },
          "execution_count": 28
        }
      ]
    },
    {
      "cell_type": "code",
      "metadata": {
        "trusted": true,
        "id": "Q2A_hpt-IFmf",
        "colab_type": "code",
        "colab": {}
      },
      "source": [
        "\n",
        "\n",
        "\n",
        "\n",
        "# The visible layer\n",
        "left_input = Input(shape=(max_seq_length,), dtype='int32')\n",
        "right_input = Input(shape=(max_seq_length,), dtype='int32')\n",
        "\n",
        "embedding_layer = Embedding(len(word_index)+1,200, weights=[embedding_matrix], input_length=max_seq_length, trainable=False)\n",
        "\n",
        "# Embedded version of the inputs\n",
        "encoded_left = embedding_layer(left_input)\n",
        "encoded_right = embedding_layer(right_input)\n",
        "\n",
        "# Since this is a siamese network, both sides share the same LSTM\n",
        "shared_lstm = LSTM(n_hidden)\n",
        "\n",
        "left_output = shared_lstm(encoded_left)\n",
        "right_output = shared_lstm(encoded_right)\n",
        "\n",
        "# Calculates the distance as defined by the MaLSTM model\n",
        "malstm_distance = Lambda(function=lambda x: exponent_neg_manhattan_distance(x[0], x[1]),output_shape=lambda x: (x[0][0], 1))([left_output, right_output])\n",
        "\n",
        "# Pack it all up into a model\n",
        "malstm = Model([left_input, right_input], [malstm_distance])\n",
        "\n",
        "# Adadelta optimizer, with gradient clipping by norm\n",
        "optimizer = Adadelta(clipnorm=gradient_clipping_norm)\n",
        "\n",
        "\n",
        "\n",
        "\n",
        "\n",
        "\n"
      ],
      "execution_count": null,
      "outputs": []
    },
    {
      "cell_type": "code",
      "metadata": {
        "trusted": true,
        "id": "t4m52X4rIFmi",
        "colab_type": "code",
        "colab": {}
      },
      "source": [
        "malstm.compile(loss='mean_squared_error', optimizer=optimizer, metrics=['accuracy'])"
      ],
      "execution_count": null,
      "outputs": []
    },
    {
      "cell_type": "code",
      "metadata": {
        "trusted": true,
        "id": "ByS5mNgdIFmm",
        "colab_type": "code",
        "colab": {},
        "outputId": "a2e83288-f767-4c1d-9eca-86b811203c79"
      },
      "source": [
        "malstm_trained = malstm.fit([X_train_q1,X_train_q2],Y_train, batch_size=batch_size, epochs=n_epoch,\n",
        "                            validation_data=([X_validation_q1, X_validation_q2], Y_validation))\n"
      ],
      "execution_count": null,
      "outputs": [
        {
          "output_type": "stream",
          "text": [
            "Epoch 1/25\n",
            "5054/5054 [==============================] - 51s 10ms/step - loss: 0.2677 - accuracy: 0.5928 - val_loss: 0.2223 - val_accuracy: 0.6471\n",
            "Epoch 2/25\n",
            "5054/5054 [==============================] - 49s 10ms/step - loss: 0.2165 - accuracy: 0.6584 - val_loss: 0.2151 - val_accuracy: 0.6615\n",
            "Epoch 3/25\n",
            "5054/5054 [==============================] - 48s 9ms/step - loss: 0.2123 - accuracy: 0.6670 - val_loss: 0.2126 - val_accuracy: 0.6671\n",
            "Epoch 4/25\n",
            "5054/5054 [==============================] - 48s 9ms/step - loss: 0.2103 - accuracy: 0.6711 - val_loss: 0.2108 - val_accuracy: 0.6703\n",
            "Epoch 5/25\n",
            "5054/5054 [==============================] - 48s 9ms/step - loss: 0.2087 - accuracy: 0.6748 - val_loss: 0.2094 - val_accuracy: 0.6737\n",
            "Epoch 6/25\n",
            "5054/5054 [==============================] - 47s 9ms/step - loss: 0.2074 - accuracy: 0.6772 - val_loss: 0.2081 - val_accuracy: 0.6763\n",
            "Epoch 7/25\n",
            "5054/5054 [==============================] - 46s 9ms/step - loss: 0.2061 - accuracy: 0.6795 - val_loss: 0.2070 - val_accuracy: 0.6784\n",
            "Epoch 8/25\n",
            "5054/5054 [==============================] - 46s 9ms/step - loss: 0.2049 - accuracy: 0.6818 - val_loss: 0.2059 - val_accuracy: 0.6807\n",
            "Epoch 9/25\n",
            "5054/5054 [==============================] - 46s 9ms/step - loss: 0.2040 - accuracy: 0.6834 - val_loss: 0.2050 - val_accuracy: 0.6826\n",
            "Epoch 10/25\n",
            "5054/5054 [==============================] - 46s 9ms/step - loss: 0.2032 - accuracy: 0.6849 - val_loss: 0.2043 - val_accuracy: 0.6835\n",
            "Epoch 11/25\n",
            "5054/5054 [==============================] - 46s 9ms/step - loss: 0.2025 - accuracy: 0.6860 - val_loss: 0.2036 - val_accuracy: 0.6850\n",
            "Epoch 12/25\n",
            "5054/5054 [==============================] - 45s 9ms/step - loss: 0.2018 - accuracy: 0.6871 - val_loss: 0.2031 - val_accuracy: 0.6862\n",
            "Epoch 13/25\n",
            "5054/5054 [==============================] - 47s 9ms/step - loss: 0.2012 - accuracy: 0.6886 - val_loss: 0.2025 - val_accuracy: 0.6870\n",
            "Epoch 14/25\n",
            "5054/5054 [==============================] - 48s 9ms/step - loss: 0.2006 - accuracy: 0.6898 - val_loss: 0.2020 - val_accuracy: 0.6877\n",
            "Epoch 15/25\n",
            "5054/5054 [==============================] - 48s 9ms/step - loss: 0.2001 - accuracy: 0.6907 - val_loss: 0.2015 - val_accuracy: 0.6885\n",
            "Epoch 16/25\n",
            "5054/5054 [==============================] - 47s 9ms/step - loss: 0.1996 - accuracy: 0.6919 - val_loss: 0.2010 - val_accuracy: 0.6900\n",
            "Epoch 17/25\n",
            "5054/5054 [==============================] - 48s 9ms/step - loss: 0.1991 - accuracy: 0.6929 - val_loss: 0.2006 - val_accuracy: 0.6904\n",
            "Epoch 18/25\n",
            "5054/5054 [==============================] - 49s 10ms/step - loss: 0.1986 - accuracy: 0.6938 - val_loss: 0.2001 - val_accuracy: 0.6919\n",
            "Epoch 19/25\n",
            "5054/5054 [==============================] - 48s 10ms/step - loss: 0.1981 - accuracy: 0.6950 - val_loss: 0.1996 - val_accuracy: 0.6922\n",
            "Epoch 20/25\n",
            "5054/5054 [==============================] - 48s 10ms/step - loss: 0.1977 - accuracy: 0.6959 - val_loss: 0.1993 - val_accuracy: 0.6933\n",
            "Epoch 21/25\n",
            "5054/5054 [==============================] - 48s 10ms/step - loss: 0.1972 - accuracy: 0.6966 - val_loss: 0.1987 - val_accuracy: 0.6940\n",
            "Epoch 22/25\n",
            "5054/5054 [==============================] - 48s 9ms/step - loss: 0.1968 - accuracy: 0.6976 - val_loss: 0.1984 - val_accuracy: 0.6945\n",
            "Epoch 23/25\n",
            "5054/5054 [==============================] - 49s 10ms/step - loss: 0.1964 - accuracy: 0.6986 - val_loss: 0.1980 - val_accuracy: 0.6956\n",
            "Epoch 24/25\n",
            "5054/5054 [==============================] - 50s 10ms/step - loss: 0.1960 - accuracy: 0.6991 - val_loss: 0.1976 - val_accuracy: 0.6963\n",
            "Epoch 25/25\n",
            "5054/5054 [==============================] - 49s 10ms/step - loss: 0.1956 - accuracy: 0.6998 - val_loss: 0.1973 - val_accuracy: 0.6975\n"
          ],
          "name": "stdout"
        }
      ]
    },
    {
      "cell_type": "code",
      "metadata": {
        "trusted": true,
        "id": "c1WyE_0-IFmr",
        "colab_type": "code",
        "colab": {}
      },
      "source": [
        "malstm.save(\"test.h5\")"
      ],
      "execution_count": null,
      "outputs": []
    },
    {
      "cell_type": "code",
      "metadata": {
        "trusted": true,
        "id": "KeX_wETEIFmu",
        "colab_type": "code",
        "colab": {},
        "outputId": "46dba668-06fd-40e2-ab25-0fb0f17fc00e"
      },
      "source": [
        "import matplotlib.pyplot as plt\n",
        "\n",
        "\n",
        "def plot_graphs(history, string):\n",
        "  plt.plot(history.history[string])\n",
        "  plt.plot(history.history['val_'+string])\n",
        "  plt.xlabel(\"Epochs\")\n",
        "  plt.ylabel(string)\n",
        "  plt.legend([string, 'val_'+string])\n",
        "  plt.show()\n",
        "\n",
        "plot_graphs(malstm_trained, 'accuracy')\n",
        "plot_graphs(malstm_trained, 'loss')"
      ],
      "execution_count": null,
      "outputs": [
        {
          "output_type": "display_data",
          "data": {
            "text/plain": [
              "<Figure size 432x288 with 1 Axes>"
            ],
            "image/png": "[encoded data removed]"
          },
          "metadata": {
            "tags": [],
            "needs_background": "light"
          }
        },
        {
          "output_type": "display_data",
          "data": {
            "text/plain": [
              "<Figure size 432x288 with 1 Axes>"
            ],
            "image/png": "[encoded data removed]"
          },
          "metadata": {
            "tags": [],
            "needs_background": "light"
          }
        }
      ]
    },
    {
      "cell_type": "code",
      "metadata": {
        "trusted": true,
        "id": "0-Mzoj3cIFmx",
        "colab_type": "code",
        "colab": {}
      },
      "source": [
        "l=pd.read_csv('../input/quora-question-pairs/sample_submission.csv.zip')"
      ],
      "execution_count": null,
      "outputs": []
    },
    {
      "cell_type": "code",
      "metadata": {
        "trusted": true,
        "id": "m7GrGm_kIFm0",
        "colab_type": "code",
        "colab": {},
        "outputId": "447dbda3-ef79-411e-96f8-c5518258e1cf"
      },
      "source": [
        "l.head()"
      ],
      "execution_count": null,
      "outputs": [
        {
          "output_type": "execute_result",
          "data": {
            "text/plain": [
              "   test_id  is_duplicate\n",
              "0        0             1\n",
              "1        1             1\n",
              "2        2             1\n",
              "3        3             1\n",
              "4        4             1"
            ],
            "text/html": [
              "<div>\n",
              "<style scoped>\n",
              "    .dataframe tbody tr th:only-of-type {\n",
              "        vertical-align: middle;\n",
              "    }\n",
              "\n",
              "    .dataframe tbody tr th {\n",
              "        vertical-align: top;\n",
              "    }\n",
              "\n",
              "    .dataframe thead th {\n",
              "        text-align: right;\n",
              "    }\n",
              "</style>\n",
              "<table border=\"1\" class=\"dataframe\">\n",
              "  <thead>\n",
              "    <tr style=\"text-align: right;\">\n",
              "      <th></th>\n",
              "      <th>test_id</th>\n",
              "      <th>is_duplicate</th>\n",
              "    </tr>\n",
              "  </thead>\n",
              "  <tbody>\n",
              "    <tr>\n",
              "      <th>0</th>\n",
              "      <td>0</td>\n",
              "      <td>1</td>\n",
              "    </tr>\n",
              "    <tr>\n",
              "      <th>1</th>\n",
              "      <td>1</td>\n",
              "      <td>1</td>\n",
              "    </tr>\n",
              "    <tr>\n",
              "      <th>2</th>\n",
              "      <td>2</td>\n",
              "      <td>1</td>\n",
              "    </tr>\n",
              "    <tr>\n",
              "      <th>3</th>\n",
              "      <td>3</td>\n",
              "      <td>1</td>\n",
              "    </tr>\n",
              "    <tr>\n",
              "      <th>4</th>\n",
              "      <td>4</td>\n",
              "      <td>1</td>\n",
              "    </tr>\n",
              "  </tbody>\n",
              "</table>\n",
              "</div>"
            ]
          },
          "metadata": {
            "tags": []
          },
          "execution_count": 40
        }
      ]
    },
    {
      "cell_type": "code",
      "metadata": {
        "trusted": true,
        "id": "Yf0x3uUDIFm3",
        "colab_type": "code",
        "colab": {}
      },
      "source": [
        "y=model.predict([X_test_q1,X_test_q2])"
      ],
      "execution_count": null,
      "outputs": []
    },
    {
      "cell_type": "code",
      "metadata": {
        "id": "hxEhde6-JlYw",
        "colab_type": "code",
        "colab": {}
      },
      "source": [
        "p=[]"
      ],
      "execution_count": null,
      "outputs": []
    },
    {
      "cell_type": "code",
      "metadata": {
        "trusted": true,
        "id": "JEYUzSdIIFm6",
        "colab_type": "code",
        "colab": {}
      },
      "source": [
        "for x in x:\n",
        "  if(x>0.5):\n",
        "    p.append(1)\n",
        "  else:\n",
        "    p.append(0)"
      ],
      "execution_count": null,
      "outputs": []
    },
    {
      "cell_type": "code",
      "metadata": {
        "trusted": true,
        "id": "6VwG0TQkIFm-",
        "colab_type": "code",
        "colab": {}
      },
      "source": [
        "malstm.save_weights('quora.h5')"
      ],
      "execution_count": null,
      "outputs": []
    },
    {
      "cell_type": "code",
      "metadata": {
        "trusted": true,
        "id": "VgzpqA91IFnB",
        "colab_type": "code",
        "colab": {}
      },
      "source": [
        "from keras.models import load_model\n",
        "model=load_model('./test.h5')"
      ],
      "execution_count": null,
      "outputs": []
    },
    {
      "cell_type": "code",
      "metadata": {
        "trusted": true,
        "id": "1SATR3BQIFnE",
        "colab_type": "code",
        "colab": {},
        "outputId": "926c86c6-c66c-4fa9-d90c-dd15049c7fdc"
      },
      "source": [
        "model.summary()"
      ],
      "execution_count": null,
      "outputs": [
        {
          "output_type": "stream",
          "text": [
            "Model: \"model\"\n",
            "__________________________________________________________________________________________________\n",
            "Layer (type)                    Output Shape         Param #     Connected to                     \n",
            "==================================================================================================\n",
            "input_1 (InputLayer)            [(None, 30)]         0                                            \n",
            "__________________________________________________________________________________________________\n",
            "input_2 (InputLayer)            [(None, 30)]         0                                            \n",
            "__________________________________________________________________________________________________\n",
            "embedding (Embedding)           (None, 30, 200)      17284600    input_1[0][0]                    \n",
            "                                                                 input_2[0][0]                    \n",
            "__________________________________________________________________________________________________\n",
            "lstm (LSTM)                     (None, 50)           50200       embedding[0][0]                  \n",
            "                                                                 embedding[1][0]                  \n",
            "__________________________________________________________________________________________________\n",
            "lambda (Lambda)                 (None, 1)            0           lstm[0][0]                       \n",
            "                                                                 lstm[1][0]                       \n",
            "==================================================================================================\n",
            "Total params: 17,334,800\n",
            "Trainable params: 50,200\n",
            "Non-trainable params: 17,284,600\n",
            "__________________________________________________________________________________________________\n"
          ],
          "name": "stdout"
        }
      ]
    },
    {
      "cell_type": "code",
      "metadata": {
        "trusted": true,
        "id": "mipZKyYYIFnj",
        "colab_type": "code",
        "colab": {}
      },
      "source": [
        ""
      ],
      "execution_count": null,
      "outputs": []
    }
  ]
}